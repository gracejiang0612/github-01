{
 "cells": [
  {
   "cell_type": "code",
   "execution_count": null,
   "id": "930e9d57-be43-4e3b-af68-1f34f9be680c",
   "metadata": {},
   "outputs": [],
   "source": [
    "# Examine both Open Meteo and Tomorrow and decide which one you'd prefer to use. What drove your decision?\n",
    "# A: I prefer Tomorrow because I actually use Meteo did half of the questions, however, there is no country database nor feels-like temperature data for my hometown, sad and angry, I quit!"
   ]
  },
  {
   "cell_type": "code",
   "execution_count": 24,
   "id": "18f0becc-6c5c-498a-b1a1-895b2209ed5c",
   "metadata": {},
   "outputs": [],
   "source": [
    "# What is the URL to the documentation? (You don't use code for this one)\n",
    "#URL-Open-Meteo \"https://open-meteo.com\"\n",
    "#URL-Tomorrow \"https://docs.tomorrow.io\""
   ]
  },
  {
   "cell_type": "code",
   "execution_count": 88,
   "id": "9dee7da8-ff5f-4986-8216-77bcdaec8765",
   "metadata": {},
   "outputs": [
    {
     "data": {
      "text/plain": [
       "<Response [200]>"
      ]
     },
     "execution_count": 88,
     "metadata": {},
     "output_type": "execute_result"
    }
   ],
   "source": [
    "import requests\n",
    "url = \"https://docs.tomorrow.io\"\n",
    "response = requests.get(url)\n",
    "response"
   ]
  },
  {
   "cell_type": "code",
   "execution_count": 89,
   "id": "71c66efd-86ef-490e-98a6-f93cd4330d7a",
   "metadata": {},
   "outputs": [
    {
     "data": {
      "text/plain": [
       "{'data': {'time': '2024-11-11T01:46:00Z',\n",
       "  'values': {'cloudBase': 0.64,\n",
       "   'cloudCeiling': 0.64,\n",
       "   'cloudCover': 100,\n",
       "   'dewPoint': 8.81,\n",
       "   'freezingRainIntensity': 0,\n",
       "   'humidity': 71,\n",
       "   'precipitationProbability': 0,\n",
       "   'pressureSurfaceLevel': 1012.68,\n",
       "   'rainIntensity': 0,\n",
       "   'sleetIntensity': 0,\n",
       "   'snowIntensity': 0,\n",
       "   'temperature': 13.88,\n",
       "   'temperatureApparent': 13.88,\n",
       "   'uvHealthConcern': 0,\n",
       "   'uvIndex': 0,\n",
       "   'visibility': 15.88,\n",
       "   'weatherCode': 1001,\n",
       "   'windDirection': 196,\n",
       "   'windGust': 10,\n",
       "   'windSpeed': 4}},\n",
       " 'location': {'lat': 40.79778289794922,\n",
       "  'lon': -73.96760559082031,\n",
       "  'name': 'Manhattan, New York County, City of New York, New York, 10025, United States',\n",
       "  'type': 'postcode'}}"
      ]
     },
     "execution_count": 89,
     "metadata": {},
     "output_type": "execute_result"
    }
   ],
   "source": [
    "# Make a request for the current weather where you are born, or somewhere you've lived.\n",
    "import requests\n",
    "url = \"https://api.tomorrow.io/v4/weather/realtime?location=10025&apikey=2c4SQ133OBJYrwSdy8OAgDMmoa7Q14qz\"\n",
    "response = requests.get(url)\n",
    "response\n",
    "data = response.json()\n",
    "data"
   ]
  },
  {
   "cell_type": "code",
   "execution_count": 90,
   "id": "0607a79a-af98-427e-ab7c-c173a333ac1e",
   "metadata": {},
   "outputs": [
    {
     "name": "stdout",
     "output_type": "stream",
     "text": [
      "Temperature at 2024-11-11T01:46:00Z in NYC is 13.88 °C\n"
     ]
    }
   ],
   "source": [
    "current_time = data['data']['time']\n",
    "current_temp = data['data']['values']['temperature']\n",
    "print(f\"Temperature at {current_time} in NYC is {current_temp} °C\")"
   ]
  },
  {
   "cell_type": "code",
   "execution_count": 91,
   "id": "dc14a3d8-a15a-429b-85bb-5896cdc78ead",
   "metadata": {},
   "outputs": [
    {
     "name": "stdout",
     "output_type": "stream",
     "text": [
      "NYC is in United States.\n"
     ]
    }
   ],
   "source": [
    "#Print out the country this location is in.\n",
    "country = data['location']['name'].split(\",\")[-1]\n",
    "print(f\"NYC is in{country}.\")"
   ]
  },
  {
   "cell_type": "code",
   "execution_count": 76,
   "id": "0220eecc-9bcd-4c25-ad99-c2d158fdc5dd",
   "metadata": {},
   "outputs": [
    {
     "name": "stdout",
     "output_type": "stream",
     "text": [
      "It feels same.\n"
     ]
    }
   ],
   "source": [
    "#Print out the difference between the current temperature and how warm it feels. Use \"It feels ___ degrees colder\" or \"It feels ___ degrees warmer,\" not negative numbers.\n",
    "difference_current_feel = data['data']['values']['temperature'] - data['data']['values']['temperatureApparent']\n",
    "if difference_current_feel == 0:\n",
    "    print (\"It feels same.\")\n",
    "elif difference_current_feel > 0:\n",
    "    print (f\"It feels {difference_current_feel}  degrees warmer.\")\n",
    "else:\n",
    "    print (f\"It feels {difference_current_feel} degrees colder.\")"
   ]
  },
  {
   "cell_type": "code",
   "execution_count": 94,
   "id": "0396476c-4d8f-4ddb-bab3-77245df70fe8",
   "metadata": {},
   "outputs": [
    {
     "name": "stdout",
     "output_type": "stream",
     "text": [
      "Temperature at Heathrow International Airport is 10.88 °C\n"
     ]
    }
   ],
   "source": [
    "#What's the current temperature at Heathrow International Airport? Use the airport's IATA code to search.\n",
    "#I tried many times, I can't use IATA code to search.\n",
    "url = \"https://api.tomorrow.io/v4/weather/realtime?location=heathrow%20airport&apikey=2c4SQ133OBJYrwSdy8OAgDMmoa7Q14qz\"\n",
    "response = requests.get(url)\n",
    "data = response.json()\n",
    "current_hta_temp = data['data']['values']['temperature']\n",
    "print(f\"Temperature at Heathrow International Airport is {current_hta_temp} °C\")"
   ]
  },
  {
   "cell_type": "code",
   "execution_count": 103,
   "id": "857616a8-745c-458b-b586-f5e6368f32f2",
   "metadata": {},
   "outputs": [],
   "source": [
    "#What URL would I use to request a 3-day forecast at Heathrow\n",
    "url = \"https://api.tomorrow.io/v4/weather/forecast?location=heathrow%20airport&timesteps=1d&timesteps=1d&timesteps=1d&apikey=2c4SQ133OBJYrwSdy8OAgDMmoa7Q14qz\""
   ]
  },
  {
   "cell_type": "code",
   "execution_count": 108,
   "id": "ebf2dc37-2912-455d-bbb9-37ea4bc49efc",
   "metadata": {},
   "outputs": [
    {
     "name": "stdout",
     "output_type": "stream",
     "text": [
      "2024-11-10T06:00:00Z\n",
      "2024-11-11T06:00:00Z\n",
      "2024-11-12T06:00:00Z\n"
     ]
    }
   ],
   "source": [
    "#Print the date of each of the 3 days you're getting a forecast for.\n",
    "response = requests.get(url)\n",
    "data = response.json()\n",
    "data\n",
    "for date in data['timelines']['daily'][:3]:\n",
    "    date = date['time']\n",
    "    print(date)\n"
   ]
  },
  {
   "cell_type": "code",
   "execution_count": 114,
   "id": "b467bf72-ebc7-49e6-8eb7-23932721ec0d",
   "metadata": {},
   "outputs": [
    {
     "name": "stdout",
     "output_type": "stream",
     "text": [
      "The highest temperature in 2024-11-10T06:00:00Z is 11.69.\n",
      "The highest temperature in 2024-11-11T06:00:00Z is 11.42.\n",
      "The highest temperature in 2024-11-12T06:00:00Z is 11.7.\n",
      "The highest temperature in 2024-11-13T06:00:00Z is 10.99.\n",
      "The highest temperature in 2024-11-14T06:00:00Z is 10.87.\n",
      "The highest temperature in 2024-11-15T06:00:00Z is 9.31.\n",
      "The highest temperature in 2024-11-16T06:00:00Z is 10.2.\n"
     ]
    }
   ],
   "source": [
    "#Print the maximum temperature of each of the days.\n",
    "for day in data['timelines']['daily']:\n",
    "    date = day['time']\n",
    "    max_temp = day['values']['temperatureMax']\n",
    "    print(\"-------\")\n",
    "    print(f\"The highest temperature in {date} is {max_temp}.\")"
   ]
  },
  {
   "cell_type": "code",
   "execution_count": 116,
   "id": "b5da2f08-d25d-4b68-ab96-34a58613dad3",
   "metadata": {},
   "outputs": [
    {
     "name": "stdout",
     "output_type": "stream",
     "text": [
      "2024-11-12T06:00:00Z with the highest maximum temperature is 11.7.\n"
     ]
    }
   ],
   "source": [
    "#Print only the day with the highest maximum temperature.\n",
    "max_tem_days = data['timelines']['daily']\n",
    "highest_temp_day = max_tem_days[0]\n",
    "for day in max_tem_days:\n",
    "    max_temp = day['values']['temperatureMax']\n",
    "    if max_temp > highest_temp_day['values']['temperatureMax']:\n",
    "        highest_temp_day = day\n",
    "print (f\"{highest_temp_day['time']} with the highest maximum temperature is {highest_temp_day['values']['temperatureMax']}.\")"
   ]
  },
  {
   "cell_type": "code",
   "execution_count": null,
   "id": "559deac1-73b2-4d27-8dca-b08230383134",
   "metadata": {},
   "outputs": [],
   "source": [
    "#Did you find this easier or more difficult than using the weatherapi.com, and why? Which would you recommend to someone interesting in building a tool around weather information?\n",
    "#very similar. Because the questions are similar. I don't recommand Tomorrow because it limit request times. "
   ]
  },
  {
   "cell_type": "code",
   "execution_count": null,
   "id": "d37ce0b4-3f76-4a95-897c-3e4b768a9a93",
   "metadata": {},
   "outputs": [],
   "source": []
  }
 ],
 "metadata": {
  "kernelspec": {
   "display_name": "Python 3 (ipykernel)",
   "language": "python",
   "name": "python3"
  },
  "language_info": {
   "codemirror_mode": {
    "name": "ipython",
    "version": 3
   },
   "file_extension": ".py",
   "mimetype": "text/x-python",
   "name": "python",
   "nbconvert_exporter": "python",
   "pygments_lexer": "ipython3",
   "version": "3.12.7"
  }
 },
 "nbformat": 4,
 "nbformat_minor": 5
}
