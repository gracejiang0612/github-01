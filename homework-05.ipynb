{
 "cells": [
  {
   "cell_type": "markdown",
   "metadata": {
    "collapsed": false
   },
   "source": [
    "### 1. Examine both Open Meteo and Tomorrow and decide which one you'd prefer to use. What drove your decision?"
   ]
  },
  {
   "cell_type": "markdown",
   "metadata": {
    "collapsed": false
   },
   "source": [
    "I prefer Tomorrow because I actually use Meteo did half of the questions, however, there is no country database nor feels-like temperature data for my hometown, sad and angry, I quit!"
   ]
  },
  {
   "cell_type": "markdown",
   "metadata": {
    "collapsed": false
   },
   "source": [
    "### 2. What is the URL to the documentation? (You don't use code for this one)"
   ]
  },
  {
   "cell_type": "markdown",
   "metadata": {
    "collapsed": false
   },
   "source": [
    "URL-Open-Meteo \"https://open-meteo.com\"\n",
    "URL-Tomorrow \"https://docs.tomorrow.io\""
   ]
  },
  {
   "cell_type": "markdown",
   "metadata": {
    "collapsed": false
   },
   "source": [
    "### 3. Make a request for the current weather where you are born, or somewhere you've lived."
   ]
  },
  {
   "cell_type": "code",
   "execution_count": 1,
   "metadata": {
    "ExecuteTime": {
     "end_time": "2024-11-11T12:43:52.042380400Z",
     "start_time": "2024-11-11T12:43:50.194327700Z"
    },
    "collapsed": false
   },
   "outputs": [
    {
     "name": "stdout",
     "output_type": "stream",
     "text": [
      "Requirement already satisfied: python-dotenv in /Users/Grace/.pyenv/versions/3.12.7/lib/python3.12/site-packages (1.0.1)\n",
      "\n",
      "\u001b[1m[\u001b[0m\u001b[34;49mnotice\u001b[0m\u001b[1;39;49m]\u001b[0m\u001b[39;49m A new release of pip is available: \u001b[0m\u001b[31;49m24.2\u001b[0m\u001b[39;49m -> \u001b[0m\u001b[32;49m24.3.1\u001b[0m\n",
      "\u001b[1m[\u001b[0m\u001b[34;49mnotice\u001b[0m\u001b[1;39;49m]\u001b[0m\u001b[39;49m To update, run: \u001b[0m\u001b[32;49mpip install --upgrade pip\u001b[0m\n"
     ]
    }
   ],
   "source": [
    "! pip install python-dotenv"
   ]
  },
  {
   "cell_type": "code",
   "execution_count": 2,
   "metadata": {
    "ExecuteTime": {
     "end_time": "2024-11-11T12:43:52.044396400Z",
     "start_time": "2024-11-11T12:43:52.041380200Z"
    },
    "collapsed": false
   },
   "outputs": [],
   "source": [
    "from dotenv import load_dotenv\n",
    "import os"
   ]
  },
  {
   "cell_type": "code",
   "execution_count": 3,
   "id": "9dee7da8-ff5f-4986-8216-77bcdaec8765",
   "metadata": {
    "ExecuteTime": {
     "end_time": "2024-11-11T12:43:54.722869700Z",
     "start_time": "2024-11-11T12:43:52.045396400Z"
    }
   },
   "outputs": [
    {
     "data": {
      "text/plain": [
       "<Response [200]>"
      ]
     },
     "execution_count": 3,
     "metadata": {},
     "output_type": "execute_result"
    }
   ],
   "source": [
    "import requests\n",
    "\n",
    "load_dotenv()\n",
    "API_KEY = os.getenv(\"API_KEY_1\")\n",
    "url = \"https://docs.tomorrow.io\"\n",
    "response = requests.get(url)\n",
    "response"
   ]
  },
  {
   "cell_type": "code",
   "execution_count": 4,
   "id": "71c66efd-86ef-490e-98a6-f93cd4330d7a",
   "metadata": {
    "ExecuteTime": {
     "end_time": "2024-11-11T12:43:55.912663100Z",
     "start_time": "2024-11-11T12:43:54.723868500Z"
    }
   },
   "outputs": [
    {
     "data": {
      "text/plain": [
       "{'data': {'time': '2024-11-11T13:15:00Z',\n",
       "  'values': {'cloudBase': 0.19,\n",
       "   'cloudCeiling': 0.19,\n",
       "   'cloudCover': 88,\n",
       "   'dewPoint': 13.31,\n",
       "   'freezingRainIntensity': 0,\n",
       "   'humidity': 91,\n",
       "   'precipitationProbability': 0,\n",
       "   'pressureSurfaceLevel': 1005.06,\n",
       "   'rainIntensity': 0,\n",
       "   'sleetIntensity': 0,\n",
       "   'snowIntensity': 0,\n",
       "   'temperature': 14.81,\n",
       "   'temperatureApparent': 14.81,\n",
       "   'uvHealthConcern': 0,\n",
       "   'uvIndex': 0,\n",
       "   'visibility': 14.13,\n",
       "   'weatherCode': 1001,\n",
       "   'windDirection': 251.81,\n",
       "   'windGust': 13,\n",
       "   'windSpeed': 4.69}},\n",
       " 'location': {'lat': 40.79778289794922,\n",
       "  'lon': -73.96760559082031,\n",
       "  'name': 'Manhattan, New York County, City of New York, New York, 10025, United States',\n",
       "  'type': 'postcode'}}"
      ]
     },
     "execution_count": 4,
     "metadata": {},
     "output_type": "execute_result"
    }
   ],
   "source": [
    "# Make a request for the current weather where you are born, or somewhere you've lived.\n",
    "url = f\"https://api.tomorrow.io/v4/weather/realtime?location=10025&apikey={API_KEY}\"\n",
    "response = requests.get(url)\n",
    "data = response.json()\n",
    "data"
   ]
  },
  {
   "cell_type": "code",
   "execution_count": 5,
   "id": "0607a79a-af98-427e-ab7c-c173a333ac1e",
   "metadata": {
    "ExecuteTime": {
     "end_time": "2024-11-11T12:43:55.916113100Z",
     "start_time": "2024-11-11T12:43:55.913637700Z"
    }
   },
   "outputs": [
    {
     "name": "stdout",
     "output_type": "stream",
     "text": [
      "Temperature at 2024-11-11T13:15:00Z in NYC is 14.81°C\n"
     ]
    }
   ],
   "source": [
    "current_time = data['data']['time']\n",
    "current_temp = data['data']['values']['temperature']\n",
    "print(f\"Temperature at {current_time} in NYC is {current_temp}°C\")"
   ]
  },
  {
   "cell_type": "markdown",
   "metadata": {
    "collapsed": false
   },
   "source": [
    "### 4. Print out the country this location is in."
   ]
  },
  {
   "cell_type": "code",
   "execution_count": 6,
   "id": "dc14a3d8-a15a-429b-85bb-5896cdc78ead",
   "metadata": {
    "ExecuteTime": {
     "end_time": "2024-11-11T12:43:55.924575500Z",
     "start_time": "2024-11-11T12:43:55.917114500Z"
    }
   },
   "outputs": [
    {
     "name": "stdout",
     "output_type": "stream",
     "text": [
      "10025 is in United States.\n"
     ]
    }
   ],
   "source": [
    "country = data['location']['name'].split(\",\")[-1]\n",
    "print(f\"10025 is in{country}.\")"
   ]
  },
  {
   "cell_type": "markdown",
   "metadata": {
    "collapsed": false
   },
   "source": [
    "### 5. Print out the difference between the current temperature and how warm it feels."
   ]
  },
  {
   "cell_type": "code",
   "execution_count": 7,
   "id": "0220eecc-9bcd-4c25-ad99-c2d158fdc5dd",
   "metadata": {
    "ExecuteTime": {
     "end_time": "2024-11-11T12:43:55.928330400Z",
     "start_time": "2024-11-11T12:43:55.925576500Z"
    }
   },
   "outputs": [
    {
     "name": "stdout",
     "output_type": "stream",
     "text": [
      "It feels same.\n"
     ]
    }
   ],
   "source": [
    "difference_current_feel = data['data']['values']['temperatureApparent'] - data['data']['values']['temperature']\n",
    "if difference_current_feel == 0:\n",
    "    print (\"It feels same.\")\n",
    "elif difference_current_feel > 0:\n",
    "    print (f\"It feels {difference_current_feel}  degrees warmer.\")\n",
    "else:\n",
    "    print (f\"It feels {abs(difference_current_feel)} degrees colder.\")"
   ]
  },
  {
   "cell_type": "markdown",
   "metadata": {
    "collapsed": false
   },
   "source": [
    "### 6. What's the current temperature at Heathrow International Airport?"
   ]
  },
  {
   "cell_type": "code",
   "execution_count": 8,
   "id": "0396476c-4d8f-4ddb-bab3-77245df70fe8",
   "metadata": {
    "ExecuteTime": {
     "end_time": "2024-11-11T12:43:57.452195300Z",
     "start_time": "2024-11-11T12:43:55.929329600Z"
    }
   },
   "outputs": [
    {
     "name": "stdout",
     "output_type": "stream",
     "text": [
      "Temperature at Heathrow International Airport is 11.38°C\n"
     ]
    }
   ],
   "source": [
    "url = f\"https://api.tomorrow.io/v4/weather/realtime?location=heathrow%20airport&apikey={API_KEY}\"\n",
    "response = requests.get(url)\n",
    "data = response.json()\n",
    "current_hta_temp = data['data']['values']['temperature']\n",
    "print(f\"Temperature at Heathrow International Airport is {current_hta_temp}°C\")"
   ]
  },
  {
   "cell_type": "markdown",
   "metadata": {
    "collapsed": false
   },
   "source": [
    "### 7. What URL would I use to request a 3-day forecast at Heathrow?"
   ]
  },
  {
   "cell_type": "markdown",
   "metadata": {
    "collapsed": false
   },
   "source": [
    "url = f\"https://api.tomorrow.io/v4/weather/forecast?location=heathrow%20airport&timesteps=1d&timesteps=1d&timesteps=1d&apikey={API_KEY}\""
   ]
  },
  {
   "cell_type": "markdown",
   "metadata": {
    "collapsed": false
   },
   "source": [
    "### 8. Print the date of each of the 3 days you're getting a forecast for."
   ]
  },
  {
   "cell_type": "code",
   "execution_count": 9,
   "id": "ebf2dc37-2912-455d-bbb9-37ea4bc49efc",
   "metadata": {
    "ExecuteTime": {
     "end_time": "2024-11-11T12:43:58.508358100Z",
     "start_time": "2024-11-11T12:43:57.453183800Z"
    }
   },
   "outputs": [
    {
     "name": "stdout",
     "output_type": "stream",
     "text": [
      "2024-11-11T06:00:00Z\n",
      "2024-11-12T06:00:00Z\n",
      "2024-11-13T06:00:00Z\n"
     ]
    }
   ],
   "source": [
    "url = f\"https://api.tomorrow.io/v4/weather/forecast?location=heathrow%20airport&timesteps=1d&timesteps=1d&timesteps=1d&apikey={API_KEY}\"\n",
    "response = requests.get(url)\n",
    "data = response.json()\n",
    "for date in data['timelines']['daily'][:3]:\n",
    "    date = date['time']\n",
    "    print(date)"
   ]
  },
  {
   "cell_type": "markdown",
   "metadata": {
    "collapsed": false
   },
   "source": [
    "### 9. Print the maximum temperature of each of the days."
   ]
  },
  {
   "cell_type": "code",
   "execution_count": 10,
   "id": "b467bf72-ebc7-49e6-8eb7-23932721ec0d",
   "metadata": {
    "ExecuteTime": {
     "end_time": "2024-11-11T12:43:58.510627700Z",
     "start_time": "2024-11-11T12:43:58.509103800Z"
    }
   },
   "outputs": [
    {
     "name": "stdout",
     "output_type": "stream",
     "text": [
      "The highest temperature in 2024-11-11T06:00:00Z is 11.38°C\n",
      "The highest temperature in 2024-11-12T06:00:00Z is 12.24°C\n",
      "The highest temperature in 2024-11-13T06:00:00Z is 11.29°C\n"
     ]
    }
   ],
   "source": [
    "for day in data['timelines']['daily'][:3]:\n",
    "    date = day['time']\n",
    "    max_temp = day['values']['temperatureMax']\n",
    "    print(f\"The highest temperature in {date} is {max_temp}°C\")"
   ]
  },
  {
   "cell_type": "markdown",
   "metadata": {
    "collapsed": false
   },
   "source": [
    "### 10. Print only the day with the highest maximum temperature."
   ]
  },
  {
   "cell_type": "code",
   "execution_count": 11,
   "id": "b5da2f08-d25d-4b68-ab96-34a58613dad3",
   "metadata": {
    "ExecuteTime": {
     "end_time": "2024-11-11T12:43:58.518170300Z",
     "start_time": "2024-11-11T12:43:58.511629100Z"
    }
   },
   "outputs": [
    {
     "name": "stdout",
     "output_type": "stream",
     "text": [
      "2024-11-12T06:00:00Z with the highest maximum temperature is 12.24°C\n"
     ]
    }
   ],
   "source": [
    "max_tem_days = data['timelines']['daily'][:3]\n",
    "highest_temp_day = max_tem_days[0]\n",
    "for day in max_tem_days:\n",
    "    max_temp = day['values']['temperatureMax']\n",
    "    if max_temp > highest_temp_day['values']['temperatureMax']:\n",
    "        highest_temp_day = day\n",
    "print (f\"{highest_temp_day['time']} with the highest maximum temperature is {highest_temp_day['values']['temperatureMax']}°C\")"
   ]
  },
  {
   "cell_type": "markdown",
   "metadata": {
    "collapsed": false
   },
   "source": [
    "### 11. Did you find this easier or more difficult than using the weatherapi.com, and why? Which would you recommend to someone interesting in building a tool around weather information?"
   ]
  },
  {
   "cell_type": "markdown",
   "metadata": {
    "collapsed": false
   },
   "source": [
    "very similar. Because the questions are similar. I don't recommand Tomorrow because it limit request times.\n"
   ]
  },
  {
   "cell_type": "code",
   "execution_count": null,
   "metadata": {
    "ExecuteTime": {
     "end_time": "2024-11-11T12:43:58.520658700Z",
     "start_time": "2024-11-11T12:43:58.519147800Z"
    },
    "collapsed": false
   },
   "outputs": [],
   "source": []
  }
 ],
 "metadata": {
  "kernelspec": {
   "display_name": "Python 3",
   "language": "python",
   "name": "python3"
  },
  "language_info": {
   "codemirror_mode": {
    "name": "ipython",
    "version": 3
   },
   "file_extension": ".py",
   "mimetype": "text/x-python",
   "name": "python",
   "nbconvert_exporter": "python",
   "pygments_lexer": "ipython3",
   "version": "3.12.7"
  }
 },
 "nbformat": 4,
 "nbformat_minor": 5
}
